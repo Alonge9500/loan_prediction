{
 "cells": [
  {
   "cell_type": "code",
   "execution_count": null,
   "metadata": {
    "id": "9MFlsBeBIhBf"
   },
   "outputs": [],
   "source": []
  },
  {
   "cell_type": "markdown",
   "metadata": {
    "id": "cN-qHry8JZNE"
   },
   "source": [
    "# Loan Prediction Analysis\n",
    "* Loan privileges can also be said to be credit worthiness, which is how a lender evaluates\n",
    "whether or not you will default on your debt obligations, as well as whether or not you are\n",
    "eligible for a credit or additional credit. The amount of money you can borrow is determined by a\n",
    "number of factors, including your repayment history and credit score. When determining the\n",
    "possibility of default, some lending organizations take into action your available asset as well as\n",
    "the quantity of liabilities you have.\n",
    "* In finance, Loan is lending help for a induvidual (or) organisation by the other induvidual (or) organization. But it has it's own merits and demerits. One such is the trust that money lender should have on the load borrower. This trust needs to meet some requirements like collateral and their monthly earnings. This notebook is just a simple example for such validation using Machine learning\n",
    "### Statement of the Problem \n",
    "* Decisions on traditional bank loans are made using credit scores along with data from\n",
    "application forms and credit reference agencies, which can be cumbersome, error prone and\n",
    "often biased process. Another problem is the guarantor’s problem, where guarantors are not\n",
    "aware of their status of standing in for a loan application.\n",
    "Due to inadequate credit checks, weak intermediation, a lack of transparency, and the\n",
    "inherent financial situation of typical internet browsers, online lending has higher risks than\n",
    "traditional bank consumer loans. Therefore, credit risks prediction and management become\n",
    "vitally important.\n",
    "### AIM\n",
    "* The aim of this research work is to propose a machine learning model that will help\n",
    "check for irregularities during the application of online loans, irregularities such as the\n",
    "unawareness of the guarantor as regards the loan until it is time for repayment. Also, its aim is to\n",
    "use machine learning to determine who is and who is not able to secure loans from this app and\n",
    "how the conditions or criteria needed to qualify for a loan are easily determined by machine\n",
    "learning.\n",
    "### Data Description \n",
    "![image.png](data:image/png;base64,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)"
   ]
  },
  {
   "cell_type": "markdown",
   "metadata": {
    "id": "ZV1Jx_JVNe_O"
   },
   "source": [
    "### Importing Required Libraries"
   ]
  },
  {
   "cell_type": "code",
   "execution_count": 2,
   "metadata": {
    "id": "A0Pu3o4oM4QB"
   },
   "outputs": [],
   "source": [
    "import pandas as pd\n",
    "import numpy as np\n",
    "import matplotlib.pyplot as plt\n",
    "import seaborn as sns\n",
    "from sklearn.preprocessing import LabelEncoder,OneHotEncoder,StandardScaler\n",
    "import mlflow\n",
    "\n"
   ]
  },
  {
   "cell_type": "markdown",
   "metadata": {
    "id": "c17GcpTPOB5o"
   },
   "source": [
    "### Loading Dataset"
   ]
  },
  {
   "cell_type": "code",
   "execution_count": 4,
   "metadata": {
    "colab": {
     "base_uri": "https://localhost:8080/",
     "height": 288
    },
    "id": "duQKpjmLOBdU",
    "outputId": "b12687d7-2378-470f-98c5-4a81506ce9d9"
   },
   "outputs": [
    {
     "data": {
      "text/html": [
       "<div>\n",
       "<style scoped>\n",
       "    .dataframe tbody tr th:only-of-type {\n",
       "        vertical-align: middle;\n",
       "    }\n",
       "\n",
       "    .dataframe tbody tr th {\n",
       "        vertical-align: top;\n",
       "    }\n",
       "\n",
       "    .dataframe thead th {\n",
       "        text-align: right;\n",
       "    }\n",
       "</style>\n",
       "<table border=\"1\" class=\"dataframe\">\n",
       "  <thead>\n",
       "    <tr style=\"text-align: right;\">\n",
       "      <th></th>\n",
       "      <th>Loan_ID</th>\n",
       "      <th>Gender</th>\n",
       "      <th>Married</th>\n",
       "      <th>Dependents</th>\n",
       "      <th>Education</th>\n",
       "      <th>Self_Employed</th>\n",
       "      <th>ApplicantIncome</th>\n",
       "      <th>CoapplicantIncome</th>\n",
       "      <th>LoanAmount</th>\n",
       "      <th>Loan_Amount_Term</th>\n",
       "      <th>Credit_History</th>\n",
       "      <th>Property_Area</th>\n",
       "      <th>Loan_Status</th>\n",
       "    </tr>\n",
       "  </thead>\n",
       "  <tbody>\n",
       "    <tr>\n",
       "      <th>0</th>\n",
       "      <td>LP001002</td>\n",
       "      <td>Male</td>\n",
       "      <td>No</td>\n",
       "      <td>0</td>\n",
       "      <td>Graduate</td>\n",
       "      <td>No</td>\n",
       "      <td>5849</td>\n",
       "      <td>0.0</td>\n",
       "      <td>NaN</td>\n",
       "      <td>360.0</td>\n",
       "      <td>1.0</td>\n",
       "      <td>Urban</td>\n",
       "      <td>Y</td>\n",
       "    </tr>\n",
       "    <tr>\n",
       "      <th>1</th>\n",
       "      <td>LP001003</td>\n",
       "      <td>Male</td>\n",
       "      <td>Yes</td>\n",
       "      <td>1</td>\n",
       "      <td>Graduate</td>\n",
       "      <td>No</td>\n",
       "      <td>4583</td>\n",
       "      <td>1508.0</td>\n",
       "      <td>128.0</td>\n",
       "      <td>360.0</td>\n",
       "      <td>1.0</td>\n",
       "      <td>Rural</td>\n",
       "      <td>N</td>\n",
       "    </tr>\n",
       "    <tr>\n",
       "      <th>2</th>\n",
       "      <td>LP001005</td>\n",
       "      <td>Male</td>\n",
       "      <td>Yes</td>\n",
       "      <td>0</td>\n",
       "      <td>Graduate</td>\n",
       "      <td>Yes</td>\n",
       "      <td>3000</td>\n",
       "      <td>0.0</td>\n",
       "      <td>66.0</td>\n",
       "      <td>360.0</td>\n",
       "      <td>1.0</td>\n",
       "      <td>Urban</td>\n",
       "      <td>Y</td>\n",
       "    </tr>\n",
       "    <tr>\n",
       "      <th>3</th>\n",
       "      <td>LP001006</td>\n",
       "      <td>Male</td>\n",
       "      <td>Yes</td>\n",
       "      <td>0</td>\n",
       "      <td>Not Graduate</td>\n",
       "      <td>No</td>\n",
       "      <td>2583</td>\n",
       "      <td>2358.0</td>\n",
       "      <td>120.0</td>\n",
       "      <td>360.0</td>\n",
       "      <td>1.0</td>\n",
       "      <td>Urban</td>\n",
       "      <td>Y</td>\n",
       "    </tr>\n",
       "    <tr>\n",
       "      <th>4</th>\n",
       "      <td>LP001008</td>\n",
       "      <td>Male</td>\n",
       "      <td>No</td>\n",
       "      <td>0</td>\n",
       "      <td>Graduate</td>\n",
       "      <td>No</td>\n",
       "      <td>6000</td>\n",
       "      <td>0.0</td>\n",
       "      <td>141.0</td>\n",
       "      <td>360.0</td>\n",
       "      <td>1.0</td>\n",
       "      <td>Urban</td>\n",
       "      <td>Y</td>\n",
       "    </tr>\n",
       "  </tbody>\n",
       "</table>\n",
       "</div>"
      ],
      "text/plain": [
       "    Loan_ID Gender Married Dependents     Education Self_Employed  \\\n",
       "0  LP001002   Male      No          0      Graduate            No   \n",
       "1  LP001003   Male     Yes          1      Graduate            No   \n",
       "2  LP001005   Male     Yes          0      Graduate           Yes   \n",
       "3  LP001006   Male     Yes          0  Not Graduate            No   \n",
       "4  LP001008   Male      No          0      Graduate            No   \n",
       "\n",
       "   ApplicantIncome  CoapplicantIncome  LoanAmount  Loan_Amount_Term  \\\n",
       "0             5849                0.0         NaN             360.0   \n",
       "1             4583             1508.0       128.0             360.0   \n",
       "2             3000                0.0        66.0             360.0   \n",
       "3             2583             2358.0       120.0             360.0   \n",
       "4             6000                0.0       141.0             360.0   \n",
       "\n",
       "   Credit_History Property_Area Loan_Status  \n",
       "0             1.0         Urban           Y  \n",
       "1             1.0         Rural           N  \n",
       "2             1.0         Urban           Y  \n",
       "3             1.0         Urban           Y  \n",
       "4             1.0         Urban           Y  "
      ]
     },
     "execution_count": 4,
     "metadata": {},
     "output_type": "execute_result"
    }
   ],
   "source": [
    "test_df = pd.read_csv('test.csv') # Test data\n",
    "train_df = pd.read_csv('train.csv') # Train data\n",
    "\n",
    "# Creating copy\n",
    "train_copy = train_df.copy()\n",
    "test_copy = test_df.copy()\n",
    "\n",
    "train_copy.head() # View dataset"
   ]
  },
  {
   "cell_type": "code",
   "execution_count": 5,
   "metadata": {
    "colab": {
     "base_uri": "https://localhost:8080/"
    },
    "id": "hFJPKZFfAgVs",
    "outputId": "f847bc8d-f4cb-4c9b-9216-181f94d0d78b"
   },
   "outputs": [
    {
     "data": {
      "text/plain": [
       "1.0    475\n",
       "0.0     89\n",
       "Name: Credit_History, dtype: int64"
      ]
     },
     "execution_count": 5,
     "metadata": {},
     "output_type": "execute_result"
    }
   ],
   "source": [
    "train_df['Credit_History'].value_counts()"
   ]
  },
  {
   "cell_type": "markdown",
   "metadata": {
    "id": "zUvhToLW8YQy"
   },
   "source": [
    "### Exploring Data"
   ]
  },
  {
   "cell_type": "code",
   "execution_count": null,
   "metadata": {
    "colab": {
     "base_uri": "https://localhost:8080/",
     "height": 300
    },
    "id": "aD9ptnLZOAQw",
    "outputId": "e23340be-e0f9-4feb-c4cb-3d754ae1404a"
   },
   "outputs": [],
   "source": [
    "#Viewing Data Description\n",
    "\n",
    "train_df.describe()"
   ]
  },
  {
   "cell_type": "code",
   "execution_count": null,
   "metadata": {
    "colab": {
     "base_uri": "https://localhost:8080/"
    },
    "id": "rQSKZ7Tv8kRg",
    "outputId": "1f1b0049-d570-4d47-8869-697b155a616b"
   },
   "outputs": [],
   "source": [
    "train_df.isna().sum()"
   ]
  },
  {
   "cell_type": "markdown",
   "metadata": {
    "id": "9pbHwIGL-4Vg"
   },
   "source": [
    "##### Report on missing data\n",
    "* Base on the above visualization there are quite a lot of missing entry at various columns \n",
    "* Gender column has 13 missing value | Could be fix with Mode value\n",
    "* Married column has 3 missing value | Could also be fix with mode value\n",
    "* Dependent has about 15 missing values | Since there are chances that people without dependent might not have any we could fix this with 0\n",
    "* Self Employed has 32 missing values | We can fix this with fill na forward option\n",
    "* LoanAmount has 22 missing values | We can fix this with mean value\n",
    "* Loan Amount Term has 14 missing values | We can fix this with mode value of the column\n",
    "* credit history has 50 missing value | We can't possible drop the credit history due to its large correlation to our dependent variable\n",
    "* Convert 3+ values in Dependent column to 3"
   ]
  },
  {
   "cell_type": "code",
   "execution_count": 6,
   "metadata": {
    "colab": {
     "base_uri": "https://localhost:8080/"
    },
    "id": "BLu7lhMV9Go8",
    "outputId": "3a5738f5-ff1d-4458-eb59-f2ed42695578"
   },
   "outputs": [
    {
     "data": {
      "text/plain": [
       "0      1.0\n",
       "1      1.0\n",
       "2      1.0\n",
       "3      1.0\n",
       "4      1.0\n",
       "      ... \n",
       "609    1.0\n",
       "610    1.0\n",
       "611    1.0\n",
       "612    1.0\n",
       "613    0.0\n",
       "Name: Credit_History, Length: 614, dtype: float64"
      ]
     },
     "execution_count": 6,
     "metadata": {},
     "output_type": "execute_result"
    }
   ],
   "source": [
    "# Fixing missing values\n",
    "# Gender\n",
    "train_copy.Gender = train_copy.Gender.fillna(train_copy.Gender.mode()[0])\n",
    "test_copy.Gender = test_copy.Gender.fillna(test_copy.Gender.mode()[0])\n",
    "\n",
    "# Married\n",
    "train_copy.Married = train_copy.Married.fillna(train_copy.Married.mode()[0])\n",
    "test_copy.Married= test_copy.Married.fillna(test_copy.Married.mode()[0])\n",
    "\n",
    "# Dependents\n",
    "train_copy.Dependents = train_copy.Dependents.fillna('0')\n",
    "test_copy.Dependents = test_copy.Dependents.fillna('0')\n",
    "train_copy.Dependents = train_copy.Dependents.replace('3+','3')\n",
    "test_copy.Dependents = test_copy.Dependents.replace('3+','3')\n",
    "pd.to_numeric(train_copy['Dependents'])\n",
    "# Self_Employed\n",
    "train_copy.Self_Employed = train_copy.Self_Employed.fillna(method='ffill')\n",
    "test_copy.Self_Employed = test_copy.Self_Employed.fillna(method='ffill')\n",
    "\n",
    "# Loan Amount\n",
    "train_copy.LoanAmount = train_copy.LoanAmount.fillna(train_copy.LoanAmount.mean())\n",
    "test_copy.LoanAmount = test_copy.LoanAmount.fillna(test_copy.LoanAmount.mean())\n",
    "\n",
    "# Loan Amount Term\n",
    "train_copy.Loan_Amount_Term = train_copy.Loan_Amount_Term.fillna(train_copy.Loan_Amount_Term.mean())\n",
    "test_copy.Loan_Amount_Term = test_copy.Loan_Amount_Term.fillna(test_copy.Loan_Amount_Term.mean())\n",
    "\n",
    "# ffil credit history\n",
    "train_copy.Credit_History = train_copy.Credit_History.fillna('0')\n",
    "test_copy.Credit_History = test_copy.Credit_History.fillna('0')\n",
    "pd.to_numeric(train_copy['Credit_History'])"
   ]
  },
  {
   "cell_type": "code",
   "execution_count": null,
   "metadata": {
    "colab": {
     "base_uri": "https://localhost:8080/"
    },
    "id": "2eIYDcZyCjGP",
    "outputId": "090d9b81-2101-4e5d-ced1-5fb826be97ed"
   },
   "outputs": [],
   "source": [
    "# Check For Changes in Missing Values in Dataset\n",
    "\n",
    "train_copy.isna().sum()"
   ]
  },
  {
   "cell_type": "markdown",
   "metadata": {
    "id": "Ogu5cQqlWjb9"
   },
   "source": [
    "#### Tidy Data\n",
    "* Some columns are not in correct datatype e.g Loan amount and Dependent\n"
   ]
  },
  {
   "cell_type": "code",
   "execution_count": 7,
   "metadata": {
    "colab": {
     "base_uri": "https://localhost:8080/"
    },
    "id": "8twcZp_cD3oP",
    "outputId": "f65b9e8d-19c8-465c-c1ed-c2483beecfb4"
   },
   "outputs": [
    {
     "name": "stdout",
     "output_type": "stream",
     "text": [
      "<class 'pandas.core.frame.DataFrame'>\n",
      "RangeIndex: 614 entries, 0 to 613\n",
      "Data columns (total 13 columns):\n",
      " #   Column             Non-Null Count  Dtype  \n",
      "---  ------             --------------  -----  \n",
      " 0   Loan_ID            614 non-null    object \n",
      " 1   Gender             614 non-null    object \n",
      " 2   Married            614 non-null    object \n",
      " 3   Dependents         614 non-null    object \n",
      " 4   Education          614 non-null    object \n",
      " 5   Self_Employed      614 non-null    object \n",
      " 6   ApplicantIncome    614 non-null    int64  \n",
      " 7   CoapplicantIncome  614 non-null    float64\n",
      " 8   LoanAmount         614 non-null    float64\n",
      " 9   Loan_Amount_Term   614 non-null    float64\n",
      " 10  Credit_History     614 non-null    object \n",
      " 11  Property_Area      614 non-null    object \n",
      " 12  Loan_Status        614 non-null    object \n",
      "dtypes: float64(3), int64(1), object(9)\n",
      "memory usage: 62.5+ KB\n",
      "<class 'pandas.core.frame.DataFrame'>\n",
      "RangeIndex: 614 entries, 0 to 613\n",
      "Data columns (total 13 columns):\n",
      " #   Column             Non-Null Count  Dtype  \n",
      "---  ------             --------------  -----  \n",
      " 0   Loan_ID            614 non-null    object \n",
      " 1   Gender             614 non-null    object \n",
      " 2   Married            614 non-null    object \n",
      " 3   Dependents         614 non-null    int32  \n",
      " 4   Education          614 non-null    object \n",
      " 5   Self_Employed      614 non-null    object \n",
      " 6   ApplicantIncome    614 non-null    int64  \n",
      " 7   CoapplicantIncome  614 non-null    float64\n",
      " 8   LoanAmount         614 non-null    int32  \n",
      " 9   Loan_Amount_Term   614 non-null    float64\n",
      " 10  Credit_History     614 non-null    int32  \n",
      " 11  Property_Area      614 non-null    object \n",
      " 12  Loan_Status        614 non-null    object \n",
      "dtypes: float64(2), int32(3), int64(1), object(7)\n",
      "memory usage: 55.3+ KB\n"
     ]
    }
   ],
   "source": [
    "#Checking DataTypes\n",
    "\n",
    "train_copy.info()\n",
    "\n",
    "train_copy.Dependents=train_copy.Dependents.astype(int)\n",
    "test_copy.Dependents=test_copy.Dependents.astype(int)\n",
    "\n",
    "train_copy.LoanAmount=train_copy.LoanAmount.astype(int)\n",
    "test_copy.LoanAmount=test_copy.LoanAmount.astype(int)\n",
    "\n",
    "train_copy.Credit_History=train_copy.Credit_History.astype(int)\n",
    "test_copy.Credit_History=test_copy.Credit_History.astype(int)\n",
    "\n",
    "#Check for Changes\n",
    "train_copy.info()"
   ]
  },
  {
   "cell_type": "markdown",
   "metadata": {
    "id": "AOp7xyKdn2wc"
   },
   "source": [
    "#### Exploratory Analysis"
   ]
  },
  {
   "cell_type": "code",
   "execution_count": null,
   "metadata": {
    "colab": {
     "base_uri": "https://localhost:8080/",
     "height": 474
    },
    "id": "qyCkmGd9n1zP",
    "outputId": "a4131632-a778-4efa-c07e-b0b253703b0d"
   },
   "outputs": [],
   "source": [
    "# The Histogram distribution of the Loan Amount\n",
    "sns.distplot(train_copy.LoanAmount)\n",
    "plt.show()"
   ]
  },
  {
   "cell_type": "code",
   "execution_count": null,
   "metadata": {
    "colab": {
     "base_uri": "https://localhost:8080/",
     "height": 298
    },
    "id": "ABJ0lQqFqozC",
    "outputId": "29d50993-58e6-4bd2-de80-3f3a9d2284c7"
   },
   "outputs": [],
   "source": [
    "sns.boxplot(x='Loan_Status', y='LoanAmount', data=train_copy)\n",
    "plt.show()\n",
    "\n",
    "\"\"\"There is no much bias on the loans that were approved\n",
    "   Or regected in respect to the amount of loan requested for\"\"\"\n",
    "\n",
    "   "
   ]
  },
  {
   "cell_type": "code",
   "execution_count": null,
   "metadata": {
    "colab": {
     "base_uri": "https://localhost:8080/",
     "height": 350
    },
    "id": "gFijIAFOrPMu",
    "outputId": "e0c00f60-047f-4c91-8297-dc6d1792e31e"
   },
   "outputs": [],
   "source": [
    "sns.countplot(x='Loan_Status', hue='Credit_History', data=train_copy)\n",
    "plt.show()\n",
    "\n",
    "\"\"\" Majority of the Loans that were approved has a credit history\n",
    "    While majority of the loans that were regected does not have a credit history\n",
    "    Althoug some of the loans with a credit history were rejected while \n",
    "    some of the loan without a credit history were accepted \n",
    "    This plot shows the correlation between our target column and the credit history\n",
    "    \"\"\""
   ]
  },
  {
   "cell_type": "code",
   "execution_count": null,
   "metadata": {
    "colab": {
     "base_uri": "https://localhost:8080/",
     "height": 279
    },
    "id": "eYyn7wgRszWn",
    "outputId": "1469b5c4-9012-4f41-de52-fbee728b4ce5"
   },
   "outputs": [],
   "source": [
    "plt.scatter(train_copy['ApplicantIncome'], train_copy['LoanAmount'])\n",
    "plt.xlabel('Applicant Income')\n",
    "plt.ylabel('Loan Amount')\n",
    "plt.show()"
   ]
  },
  {
   "cell_type": "markdown",
   "metadata": {
    "id": "T_3-645xphlz"
   },
   "source": [
    "##### Exploratory Report\n",
    "* The Loan Amount is left skewed which is as a reason of outliers we can fix this by performing Log Transformation on the data\n",
    "* There is no much bias on the loans that were approved or regected in respect to the amount of loan requested for\n",
    "* Majority of the Loans that were approved has a credit history while majority of the loans that were regected does not have a credit history although some of the loans with a credit history were rejected while some of the loan without a credit history were accepted. This plot shows the correlation between our target column and the credit history\n",
    "* Also there are few outliers on the applicant income column"
   ]
  },
  {
   "cell_type": "markdown",
   "metadata": {
    "id": "6aZLHLZYlguy"
   },
   "source": [
    "### Encoding Data\n",
    "* The Property Area and The Loan Status Columns will be encoded using the Label Encoding \n",
    "* Other Column will be encoded using one hot encoding techniques withe the dummies function in pandas"
   ]
  },
  {
   "cell_type": "code",
   "execution_count": 8,
   "metadata": {
    "id": "TQkchH9WXHYS"
   },
   "outputs": [],
   "source": [
    "# Performing Label Encoding\n",
    "propertydict = []\n",
    "label_encoding_categorical_columns = ['Property_Area', 'Loan_Status']\n",
    "encoder = LabelEncoder()\n",
    "\n",
    "for column in label_encoding_categorical_columns:\n",
    "  encoded = encoder.fit_transform(train_copy[column])\n",
    "  train_copy.drop(column, axis=1, inplace=True)\n",
    "  train_copy[column] = encoded\n",
    "  feature_dict = dict(zip(range(len(encoder.classes_)), encoder.classes_))\n",
    "  propertydict.append(feature_dict)\n",
    "\n",
    "  if column == 'Loan_Status':\n",
    "    break\n",
    "\n",
    "  encoded_test = encoder.fit_transform(test_copy[column])\n",
    "  test_copy.drop(column, axis=1, inplace=True)\n",
    "  test_copy[column] = encoded_test\n",
    "\n",
    "\n"
   ]
  },
  {
   "cell_type": "code",
   "execution_count": 9,
   "metadata": {
    "id": "Z3QF0eLhhPZr"
   },
   "outputs": [],
   "source": [
    "# Performing One Hot Encoding\n",
    "onehot_encoding_categorical_columns = ['Gender', 'Married', 'Education','Self_Employed']\n",
    "\n",
    "train_copy = pd.get_dummies(train_copy, columns = onehot_encoding_categorical_columns,drop_first=True)\n",
    "test_copy = pd.get_dummies(test_copy, columns = onehot_encoding_categorical_columns,drop_first=True)\n"
   ]
  },
  {
   "cell_type": "markdown",
   "metadata": {
    "id": "WNNzCzLOmyrZ"
   },
   "source": [
    "#### Drop Unnecessary Column\n",
    "* The Id column is a column that has no null value and all unique column therefor it will has no meaning to our dataset hence its advisable we drop it."
   ]
  },
  {
   "cell_type": "code",
   "execution_count": 10,
   "metadata": {
    "id": "Am3KggnvnMeU"
   },
   "outputs": [],
   "source": [
    "train_copy.drop('Loan_ID',axis=1,inplace=True)\n",
    "test_copy.drop('Loan_ID',axis=1,inplace=True)"
   ]
  },
  {
   "cell_type": "code",
   "execution_count": 11,
   "metadata": {
    "colab": {
     "base_uri": "https://localhost:8080/",
     "height": 288
    },
    "id": "H_kH38-n38WK",
    "outputId": "cef09a27-0ddd-468c-8bd7-bdbdadf9e4a8"
   },
   "outputs": [
    {
     "data": {
      "text/html": [
       "<div>\n",
       "<style scoped>\n",
       "    .dataframe tbody tr th:only-of-type {\n",
       "        vertical-align: middle;\n",
       "    }\n",
       "\n",
       "    .dataframe tbody tr th {\n",
       "        vertical-align: top;\n",
       "    }\n",
       "\n",
       "    .dataframe thead th {\n",
       "        text-align: right;\n",
       "    }\n",
       "</style>\n",
       "<table border=\"1\" class=\"dataframe\">\n",
       "  <thead>\n",
       "    <tr style=\"text-align: right;\">\n",
       "      <th></th>\n",
       "      <th>Dependents</th>\n",
       "      <th>ApplicantIncome</th>\n",
       "      <th>CoapplicantIncome</th>\n",
       "      <th>LoanAmount</th>\n",
       "      <th>Loan_Amount_Term</th>\n",
       "      <th>Credit_History</th>\n",
       "      <th>Property_Area</th>\n",
       "      <th>Loan_Status</th>\n",
       "      <th>Gender_Male</th>\n",
       "      <th>Married_Yes</th>\n",
       "      <th>Education_Not Graduate</th>\n",
       "      <th>Self_Employed_Yes</th>\n",
       "    </tr>\n",
       "  </thead>\n",
       "  <tbody>\n",
       "    <tr>\n",
       "      <th>0</th>\n",
       "      <td>0</td>\n",
       "      <td>5849</td>\n",
       "      <td>0.0</td>\n",
       "      <td>146</td>\n",
       "      <td>360.0</td>\n",
       "      <td>1</td>\n",
       "      <td>2</td>\n",
       "      <td>1</td>\n",
       "      <td>1</td>\n",
       "      <td>0</td>\n",
       "      <td>0</td>\n",
       "      <td>0</td>\n",
       "    </tr>\n",
       "    <tr>\n",
       "      <th>1</th>\n",
       "      <td>1</td>\n",
       "      <td>4583</td>\n",
       "      <td>1508.0</td>\n",
       "      <td>128</td>\n",
       "      <td>360.0</td>\n",
       "      <td>1</td>\n",
       "      <td>0</td>\n",
       "      <td>0</td>\n",
       "      <td>1</td>\n",
       "      <td>1</td>\n",
       "      <td>0</td>\n",
       "      <td>0</td>\n",
       "    </tr>\n",
       "    <tr>\n",
       "      <th>2</th>\n",
       "      <td>0</td>\n",
       "      <td>3000</td>\n",
       "      <td>0.0</td>\n",
       "      <td>66</td>\n",
       "      <td>360.0</td>\n",
       "      <td>1</td>\n",
       "      <td>2</td>\n",
       "      <td>1</td>\n",
       "      <td>1</td>\n",
       "      <td>1</td>\n",
       "      <td>0</td>\n",
       "      <td>1</td>\n",
       "    </tr>\n",
       "    <tr>\n",
       "      <th>3</th>\n",
       "      <td>0</td>\n",
       "      <td>2583</td>\n",
       "      <td>2358.0</td>\n",
       "      <td>120</td>\n",
       "      <td>360.0</td>\n",
       "      <td>1</td>\n",
       "      <td>2</td>\n",
       "      <td>1</td>\n",
       "      <td>1</td>\n",
       "      <td>1</td>\n",
       "      <td>1</td>\n",
       "      <td>0</td>\n",
       "    </tr>\n",
       "    <tr>\n",
       "      <th>4</th>\n",
       "      <td>0</td>\n",
       "      <td>6000</td>\n",
       "      <td>0.0</td>\n",
       "      <td>141</td>\n",
       "      <td>360.0</td>\n",
       "      <td>1</td>\n",
       "      <td>2</td>\n",
       "      <td>1</td>\n",
       "      <td>1</td>\n",
       "      <td>0</td>\n",
       "      <td>0</td>\n",
       "      <td>0</td>\n",
       "    </tr>\n",
       "  </tbody>\n",
       "</table>\n",
       "</div>"
      ],
      "text/plain": [
       "   Dependents  ApplicantIncome  CoapplicantIncome  LoanAmount  \\\n",
       "0           0             5849                0.0         146   \n",
       "1           1             4583             1508.0         128   \n",
       "2           0             3000                0.0          66   \n",
       "3           0             2583             2358.0         120   \n",
       "4           0             6000                0.0         141   \n",
       "\n",
       "   Loan_Amount_Term  Credit_History  Property_Area  Loan_Status  Gender_Male  \\\n",
       "0             360.0               1              2            1            1   \n",
       "1             360.0               1              0            0            1   \n",
       "2             360.0               1              2            1            1   \n",
       "3             360.0               1              2            1            1   \n",
       "4             360.0               1              2            1            1   \n",
       "\n",
       "   Married_Yes  Education_Not Graduate  Self_Employed_Yes  \n",
       "0            0                       0                  0  \n",
       "1            1                       0                  0  \n",
       "2            1                       0                  1  \n",
       "3            1                       1                  0  \n",
       "4            0                       0                  0  "
      ]
     },
     "execution_count": 11,
     "metadata": {},
     "output_type": "execute_result"
    }
   ],
   "source": [
    "train_copy.head()"
   ]
  },
  {
   "cell_type": "markdown",
   "metadata": {
    "id": "8gWIUh4-4Yrk"
   },
   "source": [
    "#### Feature engineering\n",
    "\n",
    "* Create a column for Totalhousehold_income which is a result of applicantincome + coapplicantincome\n"
   ]
  },
  {
   "cell_type": "code",
   "execution_count": 12,
   "metadata": {
    "id": "jjiSRhFA4oUI"
   },
   "outputs": [],
   "source": [
    "train_copy['Totalhouseincome'] = train_copy['ApplicantIncome'] + train_copy['CoapplicantIncome']\n",
    "test_copy['Totalhouseincome'] = test_copy['ApplicantIncome'] + test_copy['CoapplicantIncome']"
   ]
  },
  {
   "cell_type": "code",
   "execution_count": 13,
   "metadata": {
    "colab": {
     "base_uri": "https://localhost:8080/",
     "height": 288
    },
    "id": "AdSAu3jT7_vS",
    "outputId": "d6b7fac3-10da-4e7d-be98-e3b20f6373f2"
   },
   "outputs": [
    {
     "data": {
      "text/html": [
       "<div>\n",
       "<style scoped>\n",
       "    .dataframe tbody tr th:only-of-type {\n",
       "        vertical-align: middle;\n",
       "    }\n",
       "\n",
       "    .dataframe tbody tr th {\n",
       "        vertical-align: top;\n",
       "    }\n",
       "\n",
       "    .dataframe thead th {\n",
       "        text-align: right;\n",
       "    }\n",
       "</style>\n",
       "<table border=\"1\" class=\"dataframe\">\n",
       "  <thead>\n",
       "    <tr style=\"text-align: right;\">\n",
       "      <th></th>\n",
       "      <th>Dependents</th>\n",
       "      <th>ApplicantIncome</th>\n",
       "      <th>CoapplicantIncome</th>\n",
       "      <th>LoanAmount</th>\n",
       "      <th>Loan_Amount_Term</th>\n",
       "      <th>Credit_History</th>\n",
       "      <th>Property_Area</th>\n",
       "      <th>Loan_Status</th>\n",
       "      <th>Gender_Male</th>\n",
       "      <th>Married_Yes</th>\n",
       "      <th>Education_Not Graduate</th>\n",
       "      <th>Self_Employed_Yes</th>\n",
       "      <th>Totalhouseincome</th>\n",
       "    </tr>\n",
       "  </thead>\n",
       "  <tbody>\n",
       "    <tr>\n",
       "      <th>0</th>\n",
       "      <td>0</td>\n",
       "      <td>5849</td>\n",
       "      <td>0.0</td>\n",
       "      <td>146</td>\n",
       "      <td>360.0</td>\n",
       "      <td>1</td>\n",
       "      <td>2</td>\n",
       "      <td>1</td>\n",
       "      <td>1</td>\n",
       "      <td>0</td>\n",
       "      <td>0</td>\n",
       "      <td>0</td>\n",
       "      <td>5849.0</td>\n",
       "    </tr>\n",
       "    <tr>\n",
       "      <th>1</th>\n",
       "      <td>1</td>\n",
       "      <td>4583</td>\n",
       "      <td>1508.0</td>\n",
       "      <td>128</td>\n",
       "      <td>360.0</td>\n",
       "      <td>1</td>\n",
       "      <td>0</td>\n",
       "      <td>0</td>\n",
       "      <td>1</td>\n",
       "      <td>1</td>\n",
       "      <td>0</td>\n",
       "      <td>0</td>\n",
       "      <td>6091.0</td>\n",
       "    </tr>\n",
       "    <tr>\n",
       "      <th>2</th>\n",
       "      <td>0</td>\n",
       "      <td>3000</td>\n",
       "      <td>0.0</td>\n",
       "      <td>66</td>\n",
       "      <td>360.0</td>\n",
       "      <td>1</td>\n",
       "      <td>2</td>\n",
       "      <td>1</td>\n",
       "      <td>1</td>\n",
       "      <td>1</td>\n",
       "      <td>0</td>\n",
       "      <td>1</td>\n",
       "      <td>3000.0</td>\n",
       "    </tr>\n",
       "    <tr>\n",
       "      <th>3</th>\n",
       "      <td>0</td>\n",
       "      <td>2583</td>\n",
       "      <td>2358.0</td>\n",
       "      <td>120</td>\n",
       "      <td>360.0</td>\n",
       "      <td>1</td>\n",
       "      <td>2</td>\n",
       "      <td>1</td>\n",
       "      <td>1</td>\n",
       "      <td>1</td>\n",
       "      <td>1</td>\n",
       "      <td>0</td>\n",
       "      <td>4941.0</td>\n",
       "    </tr>\n",
       "    <tr>\n",
       "      <th>4</th>\n",
       "      <td>0</td>\n",
       "      <td>6000</td>\n",
       "      <td>0.0</td>\n",
       "      <td>141</td>\n",
       "      <td>360.0</td>\n",
       "      <td>1</td>\n",
       "      <td>2</td>\n",
       "      <td>1</td>\n",
       "      <td>1</td>\n",
       "      <td>0</td>\n",
       "      <td>0</td>\n",
       "      <td>0</td>\n",
       "      <td>6000.0</td>\n",
       "    </tr>\n",
       "  </tbody>\n",
       "</table>\n",
       "</div>"
      ],
      "text/plain": [
       "   Dependents  ApplicantIncome  CoapplicantIncome  LoanAmount  \\\n",
       "0           0             5849                0.0         146   \n",
       "1           1             4583             1508.0         128   \n",
       "2           0             3000                0.0          66   \n",
       "3           0             2583             2358.0         120   \n",
       "4           0             6000                0.0         141   \n",
       "\n",
       "   Loan_Amount_Term  Credit_History  Property_Area  Loan_Status  Gender_Male  \\\n",
       "0             360.0               1              2            1            1   \n",
       "1             360.0               1              0            0            1   \n",
       "2             360.0               1              2            1            1   \n",
       "3             360.0               1              2            1            1   \n",
       "4             360.0               1              2            1            1   \n",
       "\n",
       "   Married_Yes  Education_Not Graduate  Self_Employed_Yes  Totalhouseincome  \n",
       "0            0                       0                  0            5849.0  \n",
       "1            1                       0                  0            6091.0  \n",
       "2            1                       0                  1            3000.0  \n",
       "3            1                       1                  0            4941.0  \n",
       "4            0                       0                  0            6000.0  "
      ]
     },
     "execution_count": 13,
     "metadata": {},
     "output_type": "execute_result"
    }
   ],
   "source": [
    "train_copy.head()"
   ]
  },
  {
   "cell_type": "markdown",
   "metadata": {
    "id": "hKBgims17Ivx"
   },
   "source": [
    "#### Feature Scaling\n",
    "* We perform feature scaling using standard scaler"
   ]
  },
  {
   "cell_type": "code",
   "execution_count": 14,
   "metadata": {
    "id": "VHTAN59l47H8"
   },
   "outputs": [
    {
     "name": "stderr",
     "output_type": "stream",
     "text": [
      "2023/05/16 13:43:36 INFO mlflow.tracking.fluent: Autologging successfully enabled for statsmodels.\n",
      "2023/05/16 13:44:01 INFO mlflow.tracking.fluent: Autologging successfully enabled for sklearn.\n"
     ]
    }
   ],
   "source": [
    "mlflow.autolog()\n",
    "\n",
    "\n",
    "numerical_columns = ['Dependents','ApplicantIncome','CoapplicantIncome','LoanAmount','Totalhouseincome']\n",
    "numerical_df_train = train_copy[numerical_columns]\n",
    "numerical_df_test = test_copy[numerical_columns]\n",
    "scaler = StandardScaler()\n"
   ]
  },
  {
   "cell_type": "code",
   "execution_count": 15,
   "metadata": {
    "id": "-SRVqGz249tv"
   },
   "outputs": [],
   "source": [
    "scaled_train = pd.DataFrame(scaler.fit_transform(numerical_df_train),columns=numerical_columns)\n",
    "scaled_test = pd.DataFrame(scaler.transform(numerical_df_test),columns=numerical_columns)"
   ]
  },
  {
   "cell_type": "code",
   "execution_count": 16,
   "metadata": {
    "id": "P5B9JY8x9_xT"
   },
   "outputs": [],
   "source": [
    "final_train = pd.concat([train_copy.drop(numerical_columns, axis=1), scaled_train], axis=1)\n",
    "final_validation = pd.concat([test_copy.drop(numerical_columns, axis=1), scaled_test], axis=1)"
   ]
  },
  {
   "cell_type": "code",
   "execution_count": 17,
   "metadata": {
    "colab": {
     "base_uri": "https://localhost:8080/",
     "height": 288
    },
    "id": "Ahl-c2Iz-q1Z",
    "outputId": "a696c21a-8d65-4950-86b9-b77302f1f6b6"
   },
   "outputs": [
    {
     "data": {
      "text/html": [
       "<div>\n",
       "<style scoped>\n",
       "    .dataframe tbody tr th:only-of-type {\n",
       "        vertical-align: middle;\n",
       "    }\n",
       "\n",
       "    .dataframe tbody tr th {\n",
       "        vertical-align: top;\n",
       "    }\n",
       "\n",
       "    .dataframe thead th {\n",
       "        text-align: right;\n",
       "    }\n",
       "</style>\n",
       "<table border=\"1\" class=\"dataframe\">\n",
       "  <thead>\n",
       "    <tr style=\"text-align: right;\">\n",
       "      <th></th>\n",
       "      <th>Loan_Amount_Term</th>\n",
       "      <th>Credit_History</th>\n",
       "      <th>Property_Area</th>\n",
       "      <th>Loan_Status</th>\n",
       "      <th>Gender_Male</th>\n",
       "      <th>Married_Yes</th>\n",
       "      <th>Education_Not Graduate</th>\n",
       "      <th>Self_Employed_Yes</th>\n",
       "      <th>Dependents</th>\n",
       "      <th>ApplicantIncome</th>\n",
       "      <th>CoapplicantIncome</th>\n",
       "      <th>LoanAmount</th>\n",
       "      <th>Totalhouseincome</th>\n",
       "    </tr>\n",
       "  </thead>\n",
       "  <tbody>\n",
       "    <tr>\n",
       "      <th>0</th>\n",
       "      <td>360.0</td>\n",
       "      <td>1</td>\n",
       "      <td>2</td>\n",
       "      <td>1</td>\n",
       "      <td>1</td>\n",
       "      <td>0</td>\n",
       "      <td>0</td>\n",
       "      <td>0</td>\n",
       "      <td>-0.737806</td>\n",
       "      <td>0.072991</td>\n",
       "      <td>-0.554487</td>\n",
       "      <td>-0.004733</td>\n",
       "      <td>-0.182184</td>\n",
       "    </tr>\n",
       "    <tr>\n",
       "      <th>1</th>\n",
       "      <td>360.0</td>\n",
       "      <td>1</td>\n",
       "      <td>0</td>\n",
       "      <td>0</td>\n",
       "      <td>1</td>\n",
       "      <td>1</td>\n",
       "      <td>0</td>\n",
       "      <td>0</td>\n",
       "      <td>0.253470</td>\n",
       "      <td>-0.134412</td>\n",
       "      <td>-0.038732</td>\n",
       "      <td>-0.219097</td>\n",
       "      <td>-0.144684</td>\n",
       "    </tr>\n",
       "    <tr>\n",
       "      <th>2</th>\n",
       "      <td>360.0</td>\n",
       "      <td>1</td>\n",
       "      <td>2</td>\n",
       "      <td>1</td>\n",
       "      <td>1</td>\n",
       "      <td>1</td>\n",
       "      <td>0</td>\n",
       "      <td>1</td>\n",
       "      <td>-0.737806</td>\n",
       "      <td>-0.393747</td>\n",
       "      <td>-0.554487</td>\n",
       "      <td>-0.957465</td>\n",
       "      <td>-0.623656</td>\n",
       "    </tr>\n",
       "    <tr>\n",
       "      <th>3</th>\n",
       "      <td>360.0</td>\n",
       "      <td>1</td>\n",
       "      <td>2</td>\n",
       "      <td>1</td>\n",
       "      <td>1</td>\n",
       "      <td>1</td>\n",
       "      <td>1</td>\n",
       "      <td>0</td>\n",
       "      <td>-0.737806</td>\n",
       "      <td>-0.462062</td>\n",
       "      <td>0.251980</td>\n",
       "      <td>-0.314371</td>\n",
       "      <td>-0.322885</td>\n",
       "    </tr>\n",
       "    <tr>\n",
       "      <th>4</th>\n",
       "      <td>360.0</td>\n",
       "      <td>1</td>\n",
       "      <td>2</td>\n",
       "      <td>1</td>\n",
       "      <td>1</td>\n",
       "      <td>0</td>\n",
       "      <td>0</td>\n",
       "      <td>0</td>\n",
       "      <td>-0.737806</td>\n",
       "      <td>0.097728</td>\n",
       "      <td>-0.554487</td>\n",
       "      <td>-0.064278</td>\n",
       "      <td>-0.158785</td>\n",
       "    </tr>\n",
       "  </tbody>\n",
       "</table>\n",
       "</div>"
      ],
      "text/plain": [
       "   Loan_Amount_Term  Credit_History  Property_Area  Loan_Status  Gender_Male  \\\n",
       "0             360.0               1              2            1            1   \n",
       "1             360.0               1              0            0            1   \n",
       "2             360.0               1              2            1            1   \n",
       "3             360.0               1              2            1            1   \n",
       "4             360.0               1              2            1            1   \n",
       "\n",
       "   Married_Yes  Education_Not Graduate  Self_Employed_Yes  Dependents  \\\n",
       "0            0                       0                  0   -0.737806   \n",
       "1            1                       0                  0    0.253470   \n",
       "2            1                       0                  1   -0.737806   \n",
       "3            1                       1                  0   -0.737806   \n",
       "4            0                       0                  0   -0.737806   \n",
       "\n",
       "   ApplicantIncome  CoapplicantIncome  LoanAmount  Totalhouseincome  \n",
       "0         0.072991          -0.554487   -0.004733         -0.182184  \n",
       "1        -0.134412          -0.038732   -0.219097         -0.144684  \n",
       "2        -0.393747          -0.554487   -0.957465         -0.623656  \n",
       "3        -0.462062           0.251980   -0.314371         -0.322885  \n",
       "4         0.097728          -0.554487   -0.064278         -0.158785  "
      ]
     },
     "execution_count": 17,
     "metadata": {},
     "output_type": "execute_result"
    }
   ],
   "source": [
    "final_train.head()"
   ]
  },
  {
   "cell_type": "code",
   "execution_count": 18,
   "metadata": {
    "id": "_wjMVbWPAiPM"
   },
   "outputs": [],
   "source": [
    "from sklearn.model_selection import train_test_split,GridSearchCV\n",
    "y= final_train['Loan_Status']\n",
    "X = final_train.drop('Loan_Status', axis=1)"
   ]
  },
  {
   "cell_type": "code",
   "execution_count": 19,
   "metadata": {
    "id": "7GoyX_vq-trK"
   },
   "outputs": [],
   "source": [
    "X_train, X_test, y_train, y_test = train_test_split(X, y, test_size=0.2, random_state=42)"
   ]
  },
  {
   "cell_type": "code",
   "execution_count": 20,
   "metadata": {
    "id": "4kgdrwl2-3Sg"
   },
   "outputs": [],
   "source": [
    "from sklearn.ensemble import RandomForestClassifier\n",
    "\n",
    "classifier = RandomForestClassifier()"
   ]
  },
  {
   "cell_type": "code",
   "execution_count": 21,
   "metadata": {
    "colab": {
     "base_uri": "https://localhost:8080/",
     "height": 75
    },
    "id": "b0cJNCIVBQG1",
    "outputId": "28298f60-810e-4ce9-e227-c618b6e3c7f6"
   },
   "outputs": [
    {
     "name": "stderr",
     "output_type": "stream",
     "text": [
      "2023/05/16 13:44:03 WARNING mlflow.utils.git_utils: Failed to import Git (the Git executable is probably not on your PATH), so Git SHA is not available. Error: Failed to initialize: Bad git executable.\n",
      "The git executable must be specified in one of the following ways:\n",
      "    - be included in your $PATH\n",
      "    - be set via $GIT_PYTHON_GIT_EXECUTABLE\n",
      "    - explicitly set via git.refresh()\n",
      "\n",
      "All git commands will error until this is rectified.\n",
      "\n",
      "This initial warning can be silenced or aggravated in the future by setting the\n",
      "$GIT_PYTHON_REFRESH environment variable. Use one of the following values:\n",
      "    - quiet|q|silence|s|none|n|0: for no warning or exception\n",
      "    - warn|w|warning|1: for a printed warning\n",
      "    - error|e|raise|r|2: for a raised exception\n",
      "\n",
      "Example:\n",
      "    export GIT_PYTHON_REFRESH=quiet\n",
      "\n",
      "2023/05/16 13:44:04 INFO mlflow.utils.autologging_utils: Created MLflow autologging run with ID 'ac79e63d9d784f05a29c6e5fff030830', which will track hyperparameters, performance metrics, model artifacts, and lineage information for the current sklearn workflow\n",
      "2023/05/16 13:44:14 WARNING mlflow.utils.autologging_utils: MLflow autologging encountered a warning: \"C:\\Users\\pc\\AppData\\Roaming\\Python\\Python39\\site-packages\\mlflow\\models\\signature.py:137: UserWarning: Hint: Inferred schema contains integer column(s). Integer columns in Python cannot represent missing values. If your input data contains missing values at inference time, it will be encoded as floats and will cause a schema enforcement error. The best way to avoid this problem is to infer the model schema based on a realistic data sample (training dataset) that includes missing values. Alternatively, you can declare integer columns as doubles (float64) whenever these columns may have missing values. See `Handling Integers With Missing Values <https://www.mlflow.org/docs/latest/models.html#handling-integers-with-missing-values>`_ for more details.\"\n",
      "2023/05/16 13:46:00 WARNING mlflow.utils.autologging_utils: MLflow autologging encountered a warning: \"C:\\Users\\pc\\anaconda3\\lib\\site-packages\\_distutils_hack\\__init__.py:33: UserWarning: Setuptools is replacing distutils.\"\n"
     ]
    },
    {
     "data": {
      "text/plain": [
       "RandomForestClassifier()"
      ]
     },
     "execution_count": 21,
     "metadata": {},
     "output_type": "execute_result"
    }
   ],
   "source": [
    "#Train Model\n",
    "classifier.fit(X_train,y_train)"
   ]
  },
  {
   "cell_type": "code",
   "execution_count": 22,
   "metadata": {
    "colab": {
     "base_uri": "https://localhost:8080/"
    },
    "id": "EQLMMJNhV1BN",
    "outputId": "559c7527-9ccc-46ab-8e09-459d0dd02fe1"
   },
   "outputs": [
    {
     "name": "stdout",
     "output_type": "stream",
     "text": [
      "Accuracy: 0.72\n",
      "Precision: 0.72\n",
      "Recall: 0.72\n",
      "Confusion matrix:\n",
      "[[17 26]\n",
      " [ 8 72]]\n"
     ]
    }
   ],
   "source": [
    "#Prediction \n",
    "y_pred = classifier.predict(X_test)\n",
    "\n",
    "# Evaluate Model\n",
    "from sklearn.metrics import accuracy_score, confusion_matrix, precision_score, recall_score\n",
    "\n",
    "accuracy = accuracy_score(y_test, y_pred)\n",
    "precision = precision_score(y_test, y_pred, average='weighted')\n",
    "recall = recall_score(y_test, y_pred, average='weighted')\n",
    "\n",
    "# Create confusion matrix\n",
    "conf_matrix = confusion_matrix(y_test, y_pred)\n",
    "\n",
    "print(f\"Accuracy: {accuracy:.2f}\")\n",
    "print(f\"Precision: {precision:.2f}\")\n",
    "print(f\"Recall: {recall:.2f}\")\n",
    "print(f\"Confusion matrix:\\n{conf_matrix}\")"
   ]
  },
  {
   "cell_type": "code",
   "execution_count": null,
   "metadata": {
    "colab": {
     "base_uri": "https://localhost:8080/"
    },
    "id": "ZHjvHUqKW9eO",
    "outputId": "31e14c7f-7f4b-4935-a9ec-72f9b294e69e"
   },
   "outputs": [],
   "source": [
    "import joblib\n",
    "\n",
    "joblib.dump(classifier,'randomforestmodel.pkl')"
   ]
  },
  {
   "cell_type": "code",
   "execution_count": 27,
   "metadata": {
    "id": "vBsy770icu69"
   },
   "outputs": [
    {
     "name": "stderr",
     "output_type": "stream",
     "text": [
      "'mlflow' is not recognized as an internal or external command,\n",
      "operable program or batch file.\n"
     ]
    }
   ],
   "source": [
    "!mlflow ui"
   ]
  },
  {
   "cell_type": "code",
   "execution_count": null,
   "metadata": {},
   "outputs": [],
   "source": []
  }
 ],
 "metadata": {
  "colab": {
   "provenance": []
  },
  "kernelspec": {
   "display_name": "Python 3 (ipykernel)",
   "language": "python",
   "name": "python3"
  },
  "language_info": {
   "codemirror_mode": {
    "name": "ipython",
    "version": 3
   },
   "file_extension": ".py",
   "mimetype": "text/x-python",
   "name": "python",
   "nbconvert_exporter": "python",
   "pygments_lexer": "ipython3",
   "version": "3.9.13"
  }
 },
 "nbformat": 4,
 "nbformat_minor": 1
}
